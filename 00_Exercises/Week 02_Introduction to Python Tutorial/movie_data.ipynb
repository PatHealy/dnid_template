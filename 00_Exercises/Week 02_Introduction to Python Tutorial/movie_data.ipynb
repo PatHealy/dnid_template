{
 "cells": [
  {
   "cell_type": "markdown",
   "id": "c4bc9168-daed-4a7c-a217-83fe95b8c931",
   "metadata": {},
   "source": [
    "## Movie Data Exploration\n",
    "\n",
    "In this file, you will explore some simple operations of Pandas, a python package made to handle tables of data that it refers to as \"data frames.\" We'll also be using MatPlotLib, a popular tool for data visualization.\n",
    "\n",
    "The data you are using is one of your instructor's actual Letterboxd data. The included `diary.csv` file is a table representing diary entries in a film log recording all of the movies Pat Healy has watched since 2020.\n",
    "\n",
    "Before you start doing things with data, we need to make sure we have some python packages of interest installed. Run the following block to import the packages we're using (if you get errors, you need to install these packages with pip):"
   ]
  },
  {
   "cell_type": "code",
   "execution_count": 1,
   "id": "752f9f3c-c2f1-460d-bf86-bc05062ff286",
   "metadata": {},
   "outputs": [],
   "source": [
    "import pandas as pd\n",
    "import matplotlib.pyplot as plt"
   ]
  },
  {
   "cell_type": "markdown",
   "id": "8ef5c625-10b7-4e52-9dd4-795e32e0a0ea",
   "metadata": {},
   "source": [
    "---\n",
    "#### Read in the data\n",
    "\n",
    "Pandas gives us an easy way to read in data if it's already formatted in a nice way (like in a spreadsheet). Running the following block will read the `diary.csv` spreadsheet into a dataframe:"
   ]
  },
  {
   "cell_type": "code",
   "execution_count": 2,
   "id": "35a4f6d7-67d5-4477-9cb9-74802d8333f7",
   "metadata": {},
   "outputs": [],
   "source": [
    "data = pd.read_csv(\"diary.csv\")"
   ]
  },
  {
   "cell_type": "markdown",
   "id": "b9d88709-926c-4022-9014-8cb19c3fe99d",
   "metadata": {},
   "source": [
    "There are a few dataframe functions we could call to get a basic idea of what we're looking at. For example, the `head` and `describe` methods."
   ]
  },
  {
   "cell_type": "code",
   "execution_count": 4,
   "id": "f23efce2-f771-4bde-b4e3-fc3799a62a83",
   "metadata": {},
   "outputs": [
    {
     "data": {
      "text/html": [
       "<div>\n",
       "<style scoped>\n",
       "    .dataframe tbody tr th:only-of-type {\n",
       "        vertical-align: middle;\n",
       "    }\n",
       "\n",
       "    .dataframe tbody tr th {\n",
       "        vertical-align: top;\n",
       "    }\n",
       "\n",
       "    .dataframe thead th {\n",
       "        text-align: right;\n",
       "    }\n",
       "</style>\n",
       "<table border=\"1\" class=\"dataframe\">\n",
       "  <thead>\n",
       "    <tr style=\"text-align: right;\">\n",
       "      <th></th>\n",
       "      <th>Date</th>\n",
       "      <th>Name</th>\n",
       "      <th>Year</th>\n",
       "      <th>Letterboxd URI</th>\n",
       "      <th>Rating</th>\n",
       "      <th>Rewatch</th>\n",
       "      <th>Tags</th>\n",
       "      <th>Watched Date</th>\n",
       "    </tr>\n",
       "  </thead>\n",
       "  <tbody>\n",
       "    <tr>\n",
       "      <th>0</th>\n",
       "      <td>2020-12-01</td>\n",
       "      <td>Little Women</td>\n",
       "      <td>2019.0</td>\n",
       "      <td>https://boxd.it/1uiJTT</td>\n",
       "      <td>5.0</td>\n",
       "      <td>NaN</td>\n",
       "      <td>NaN</td>\n",
       "      <td>2020-01-01</td>\n",
       "    </tr>\n",
       "    <tr>\n",
       "      <th>1</th>\n",
       "      <td>2020-12-06</td>\n",
       "      <td>Uncut Gems</td>\n",
       "      <td>2019.0</td>\n",
       "      <td>https://boxd.it/1uQMXd</td>\n",
       "      <td>4.5</td>\n",
       "      <td>NaN</td>\n",
       "      <td>NaN</td>\n",
       "      <td>2020-01-05</td>\n",
       "    </tr>\n",
       "    <tr>\n",
       "      <th>2</th>\n",
       "      <td>2020-12-06</td>\n",
       "      <td>John Mulaney &amp; The Sack Lunch Bunch</td>\n",
       "      <td>2019.0</td>\n",
       "      <td>https://boxd.it/1uQN7x</td>\n",
       "      <td>4.5</td>\n",
       "      <td>NaN</td>\n",
       "      <td>NaN</td>\n",
       "      <td>2020-01-05</td>\n",
       "    </tr>\n",
       "    <tr>\n",
       "      <th>3</th>\n",
       "      <td>2020-12-06</td>\n",
       "      <td>Seth Meyers: Lobby Baby</td>\n",
       "      <td>2019.0</td>\n",
       "      <td>https://boxd.it/1uQNPf</td>\n",
       "      <td>NaN</td>\n",
       "      <td>NaN</td>\n",
       "      <td>NaN</td>\n",
       "      <td>2020-01-06</td>\n",
       "    </tr>\n",
       "    <tr>\n",
       "      <th>4</th>\n",
       "      <td>2020-12-06</td>\n",
       "      <td>John Mulaney &amp; The Sack Lunch Bunch</td>\n",
       "      <td>2019.0</td>\n",
       "      <td>https://boxd.it/1uQMl9</td>\n",
       "      <td>4.5</td>\n",
       "      <td>NaN</td>\n",
       "      <td>NaN</td>\n",
       "      <td>2020-01-09</td>\n",
       "    </tr>\n",
       "  </tbody>\n",
       "</table>\n",
       "</div>"
      ],
      "text/plain": [
       "         Date                                 Name    Year  \\\n",
       "0  2020-12-01                         Little Women  2019.0   \n",
       "1  2020-12-06                           Uncut Gems  2019.0   \n",
       "2  2020-12-06  John Mulaney & The Sack Lunch Bunch  2019.0   \n",
       "3  2020-12-06              Seth Meyers: Lobby Baby  2019.0   \n",
       "4  2020-12-06  John Mulaney & The Sack Lunch Bunch  2019.0   \n",
       "\n",
       "           Letterboxd URI  Rating Rewatch Tags Watched Date  \n",
       "0  https://boxd.it/1uiJTT     5.0     NaN  NaN   2020-01-01  \n",
       "1  https://boxd.it/1uQMXd     4.5     NaN  NaN   2020-01-05  \n",
       "2  https://boxd.it/1uQN7x     4.5     NaN  NaN   2020-01-05  \n",
       "3  https://boxd.it/1uQNPf     NaN     NaN  NaN   2020-01-06  \n",
       "4  https://boxd.it/1uQMl9     4.5     NaN  NaN   2020-01-09  "
      ]
     },
     "execution_count": 4,
     "metadata": {},
     "output_type": "execute_result"
    }
   ],
   "source": [
    "# Gives us the first five rows of the dataframe\n",
    "data.head()"
   ]
  },
  {
   "cell_type": "code",
   "execution_count": 6,
   "id": "96604117-617a-4ad6-b037-586b26ab705b",
   "metadata": {},
   "outputs": [
    {
     "data": {
      "text/html": [
       "<div>\n",
       "<style scoped>\n",
       "    .dataframe tbody tr th:only-of-type {\n",
       "        vertical-align: middle;\n",
       "    }\n",
       "\n",
       "    .dataframe tbody tr th {\n",
       "        vertical-align: top;\n",
       "    }\n",
       "\n",
       "    .dataframe thead th {\n",
       "        text-align: right;\n",
       "    }\n",
       "</style>\n",
       "<table border=\"1\" class=\"dataframe\">\n",
       "  <thead>\n",
       "    <tr style=\"text-align: right;\">\n",
       "      <th></th>\n",
       "      <th>Year</th>\n",
       "      <th>Rating</th>\n",
       "    </tr>\n",
       "  </thead>\n",
       "  <tbody>\n",
       "    <tr>\n",
       "      <th>count</th>\n",
       "      <td>1913.000000</td>\n",
       "      <td>1787.000000</td>\n",
       "    </tr>\n",
       "    <tr>\n",
       "      <th>mean</th>\n",
       "      <td>2002.114480</td>\n",
       "      <td>3.656407</td>\n",
       "    </tr>\n",
       "    <tr>\n",
       "      <th>std</th>\n",
       "      <td>20.424034</td>\n",
       "      <td>0.921023</td>\n",
       "    </tr>\n",
       "    <tr>\n",
       "      <th>min</th>\n",
       "      <td>1900.000000</td>\n",
       "      <td>0.500000</td>\n",
       "    </tr>\n",
       "    <tr>\n",
       "      <th>25%</th>\n",
       "      <td>1988.000000</td>\n",
       "      <td>3.000000</td>\n",
       "    </tr>\n",
       "    <tr>\n",
       "      <th>50%</th>\n",
       "      <td>2007.000000</td>\n",
       "      <td>4.000000</td>\n",
       "    </tr>\n",
       "    <tr>\n",
       "      <th>75%</th>\n",
       "      <td>2020.000000</td>\n",
       "      <td>4.500000</td>\n",
       "    </tr>\n",
       "    <tr>\n",
       "      <th>max</th>\n",
       "      <td>2024.000000</td>\n",
       "      <td>5.000000</td>\n",
       "    </tr>\n",
       "  </tbody>\n",
       "</table>\n",
       "</div>"
      ],
      "text/plain": [
       "              Year       Rating\n",
       "count  1913.000000  1787.000000\n",
       "mean   2002.114480     3.656407\n",
       "std      20.424034     0.921023\n",
       "min    1900.000000     0.500000\n",
       "25%    1988.000000     3.000000\n",
       "50%    2007.000000     4.000000\n",
       "75%    2020.000000     4.500000\n",
       "max    2024.000000     5.000000"
      ]
     },
     "execution_count": 6,
     "metadata": {},
     "output_type": "execute_result"
    }
   ],
   "source": [
    "# gives us basic descriptive statistics of quantitative fields\n",
    "data.describe()"
   ]
  },
  {
   "cell_type": "markdown",
   "id": "334476cc-858a-43c6-84d2-ea8117ceabfc",
   "metadata": {},
   "source": [
    "If you're interested in seeing more functions available to dataframes, check out [the official documentation](https://pandas.pydata.org/docs/reference/frame.html).\n",
    "\n",
    "Sometimes we just want to look at a single column instead of the whole dataframe. When we do this, we are looking at what Pandas refers to as a \"Series\" (which has [its own interesting documentation](https://pandas.pydata.org/docs/reference/series.html)).\n",
    "\n",
    "Here we are extracting out a series representing just the names of the films logged."
   ]
  },
  {
   "cell_type": "code",
   "execution_count": 10,
   "id": "5403534e-25a2-4177-9eab-1007084436c8",
   "metadata": {},
   "outputs": [
    {
     "data": {
      "text/plain": [
       "count                  1915\n",
       "unique                 1648\n",
       "top       Stop Making Sense\n",
       "freq                     32\n",
       "Name: Name, dtype: object"
      ]
     },
     "execution_count": 10,
     "metadata": {},
     "output_type": "execute_result"
    }
   ],
   "source": [
    "film_names = data[\"Name\"]\n",
    "\n",
    "# Series also have a describe function! In cases of non-numeric data like this, it will give you counts, \n",
    "#    counts of unique elements, the mode,\n",
    "#    and the element name and datatype that define the series.\n",
    "film_names.describe()"
   ]
  },
  {
   "cell_type": "markdown",
   "id": "9b0b5611-0f76-4b96-8dfa-71d34c3caac9",
   "metadata": {},
   "source": [
    "--- \n",
    "## Exercises\n",
    "\n",
    "The following exercises will give you an opportunity to explore some of the basic data analysis functions we have available to us in pandas and matplotlib.\n",
    "\n",
    "#### Exercise 1. Counting\n",
    "\n",
    "When a log is created on Letterboxd without a rating, it appears blank in the csv file, which is then read in by Pandas as `NaN`. By whatever means you like, count how many logs in `diary.csv` included no rating. \n",
    "\n",
    "There are a lot of ways to do this! Here are some methods (with links to documentation) that you might find useful: \n",
    "- The `count` method returns the number of non-NA elements in the series ([documentation link](https://pandas.pydata.org/docs/reference/api/pandas.Series.count.html#pandas.Series.count))\n",
    "- The `value_counts` methods returns a series representing the frequency of every unique value in a series ([documentation link](https://pandas.pydata.org/docs/reference/api/pandas.Series.value_counts.html#pandas.Series.value_counts))\n",
    "- If you want to get the total number of rows of a dataframe, you can just call the `len` method on it, like you would with any other data structure (like a list in the previous file)."
   ]
  },
  {
   "cell_type": "code",
   "execution_count": null,
   "id": "9722a377-319b-4835-b59a-0f382d3ff110",
   "metadata": {},
   "outputs": [],
   "source": [
    "# Your work here!"
   ]
  },
  {
   "cell_type": "markdown",
   "id": "6167de37-0897-4f8b-abcc-73dc4b3cc11c",
   "metadata": {},
   "source": [
    "#### Exercise 2. Favorites\n",
    "From the diary, find the names of all of the films that were awarded a rating of 5 stars.\n",
    "\n",
    "There are a lot of ways to do this, too! Probably the easiest (but, behind the scenes, INCREDIBLY complicated) way of doing this is with a `query` call. Take a look at the [official documentation on query](https://pandas.pydata.org/docs/dev/reference/api/pandas.DataFrame.query.html)."
   ]
  },
  {
   "cell_type": "code",
   "execution_count": 13,
   "id": "b075c843-62ef-4988-af0d-e9967cf12da8",
   "metadata": {},
   "outputs": [],
   "source": [
    "# your work here!"
   ]
  },
  {
   "cell_type": "markdown",
   "id": "0dc02aa4-017d-40a2-80b4-4071cf1f6848",
   "metadata": {},
   "source": [
    "#### Exercise 3. Average Rating per Year (by log date)\n",
    "\n",
    "From the diary, find the average rating awarded per year when the film was LOGGED (not when the film was released) for 2020, 2021, 2022, 2023, and 2024.\n",
    "\n",
    "Some things to note:\n",
    "- To get the year from the Date objects in the `Watched Date` column, you'll need to either convert the column to DateTime objects or just treat them like strings and look at their first four characters.\n",
    "- If you plan on treating the column like strings, you should [check out the string startswith method for series](https://pandas.pydata.org/docs/reference/api/pandas.Series.str.startswith.html). You can use that method inside a query!\n",
    "- If you'd like the convert the column to a datetime, you can do so with the `to_datetime` method ([explored in this tutorial](https://www.geeksforgeeks.org/convert-the-column-type-from-string-to-datetime-format-in-pandas-dataframe/)). Then, you can query on the year with `.dt.year` ([explored in-depth in this other tutorial](https://www.geeksforgeeks.org/how-to-filter-dataframe-rows-based-on-the-date-in-pandas/))."
   ]
  },
  {
   "cell_type": "code",
   "execution_count": 21,
   "id": "694c73fa-a920-4842-8b58-a28ff5684f06",
   "metadata": {},
   "outputs": [],
   "source": [
    "#your code here!"
   ]
  },
  {
   "cell_type": "markdown",
   "id": "e0156c14-1829-42ec-928d-fd19a98fd09b",
   "metadata": {},
   "source": [
    "#### Exercise 4. Plotting Frequency per Year (by film release year)\n",
    "\n",
    "In this exercise, we want to calculate the frequency of film logs per film release year (the `Year` column in the spreadsheet) AND plot them on a line graph. Though in the previous exercise we had a set number of just a few years, here we should really make sure our code works for an arbitrary number of years to be included in the data.\n",
    "\n",
    "Some notes:\n",
    "- The `value_counts` method will be very helpful! It can give you a series that counts frequencies per year.\n",
    "- Your data should be presented in sorted order, sorted by year. You can sort a pandas series with either the `sort_value()` or `sort_index()` methods. Experiment with them to see which is appropriate.\n",
    "- You can make a simple line graph out of any pandas series with the `.plot()` method ([documentation here](https://pandas.pydata.org/docs/reference/api/pandas.Series.plot.html)). For this exercise, you can call it done when you reach this simple line graph but if you'd like to explore ploting in a more stylish way (maybe adding a title, axis labels, changing around the color theme), [check out this documentation](https://pandas.pydata.org/pandas-docs/version/0.13.1/visualization.html).\n"
   ]
  },
  {
   "cell_type": "code",
   "execution_count": 28,
   "id": "f0fc0dfd-3913-4bf4-aecf-ba65d23de731",
   "metadata": {},
   "outputs": [],
   "source": [
    "# your work here!"
   ]
  },
  {
   "cell_type": "code",
   "execution_count": null,
   "id": "90600e04-7434-439b-a11c-c59728d0a57a",
   "metadata": {},
   "outputs": [],
   "source": []
  }
 ],
 "metadata": {
  "kernelspec": {
   "display_name": "Python 3 (ipykernel)",
   "language": "python",
   "name": "python3"
  },
  "language_info": {
   "codemirror_mode": {
    "name": "ipython",
    "version": 3
   },
   "file_extension": ".py",
   "mimetype": "text/x-python",
   "name": "python",
   "nbconvert_exporter": "python",
   "pygments_lexer": "ipython3",
   "version": "3.10.12"
  }
 },
 "nbformat": 4,
 "nbformat_minor": 5
}
